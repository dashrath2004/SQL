{
 "cells": [
  {
   "cell_type": "markdown",
   "id": "de09978e-b28a-414d-9e4b-63dff62ae168",
   "metadata": {},
   "source": [
    "Q1. What is a database? Differentiate between SQL and NoSQL databases."
   ]
  },
  {
   "cell_type": "markdown",
   "id": "0dec2763-f901-441a-838b-7d7cb233bc3d",
   "metadata": {},
   "source": [
    "A database is an organized collection of structured information, or data, typically stored electronically in a computer system. A database is usually controlled by a database management system (DBMS).\n",
    "\n",
    "SQL databases are table-based, while NoSQL databases are document, key-value, graph, or wide-column stores. SQL databases are better for multi-row transactions, while NoSQL is better for unstructured data like documents or JSON."
   ]
  },
  {
   "cell_type": "markdown",
   "id": "a83eb07e-5feb-4b16-b8f7-4f80ffad32e3",
   "metadata": {},
   "source": [
    "Q2. What is DDL? Explain why CREATE, DROP, ALTER, and TRUNCATE are used with an example."
   ]
  },
  {
   "cell_type": "markdown",
   "id": "afa2e9d3-4d07-49d1-a314-53b4d96898ad",
   "metadata": {},
   "source": [
    "DDL statements are similar to a computer programming language for defining data structures, especially database schemas. Common examples of DDL statements include CREATE, ALTER, and DROP."
   ]
  },
  {
   "cell_type": "markdown",
   "id": "db4aaa1e-b4ba-41c5-87f0-a4b47ea95fe1",
   "metadata": {},
   "source": [
    "1.CREATE TABLE : The CREATE TABLE command creates a new table in the database -"
   ]
  },
  {
   "cell_type": "markdown",
   "id": "1f34fd7c-0c24-446b-8968-b9d64671967a",
   "metadata": {},
   "source": [
    "2.ALTER TABLE : The ALTER TABLE command adds, deletes, or modifies columns in a table."
   ]
  },
  {
   "cell_type": "markdown",
   "id": "d0b9c147-749c-4ce2-ac5b-b579394ec0cf",
   "metadata": {},
   "source": [
    "3.DROP TABLE : The DROP TABLE command deletes a table in the database."
   ]
  },
  {
   "cell_type": "markdown",
   "id": "1f81cbec-8395-4261-bfd0-67a84ae9d996",
   "metadata": {},
   "source": [
    "4. TRUNCATE TABLE : The TRUNCATE TABLE command deletes the data inside a table, but not the table itself."
   ]
  },
  {
   "cell_type": "markdown",
   "id": "be581da3-e9c0-4730-aea5-c5945e93e829",
   "metadata": {},
   "source": [
    "Q3. What is DML? Explain INSERT, UPDATE, and DELETE with an example."
   ]
  },
  {
   "cell_type": "markdown",
   "id": "2f6566c3-cfc5-4ed8-817e-130bdfd25959",
   "metadata": {},
   "source": [
    "The Full Form of DML is Data Manipulation Language. Data Manipulation Language (DML) is a programming language, also a category of SQL, applying useful table format and formulas for exchanging information, with the data limited to a point in the database, using SQL."
   ]
  },
  {
   "cell_type": "markdown",
   "id": "2c683ae0-962b-43a0-be0b-25e0da4c0ab2",
   "metadata": {},
   "source": [
    "INSERT : This command is used to enter the information or values into a row. We can connect one or          more records to a single table within a repository using this instruction. This is often            used to connect an unused tag to the documents.\n",
    "\n",
    "Example : INSERT INTO students ('stu_id' int, 'stu_name' varchar(20), 'city' varchar(20))\n",
    "\n",
    "          VALUES ('1', 'Nirmit', 'Gorakhpur'); "
   ]
  },
  {
   "cell_type": "markdown",
   "id": "0a332372-14e7-4f35-97e5-cf7b7c94c1d6",
   "metadata": {},
   "source": [
    "UPDATE Command –\n",
    "This command is used to alter existing table records. Within a table, it modifies data from one or more records. This command is used to alter the data which is already present in a table.\n",
    "\n",
    "Example : UPDATE students\n",
    "\n",
    "SET due_fees = 20000\n",
    "\n",
    "WHERE stu_name = 'Mini';\n"
   ]
  },
  {
   "cell_type": "markdown",
   "id": "96bfdc73-5cee-4294-b0e3-99bb260b9710",
   "metadata": {},
   "source": [
    "DELETE Command –\n",
    "It deletes all archives from a table. This command is used to erase some or all of the previous table’s records. If we do not specify the ‘WHERE’ condition then all the rows would be erased or deleted.\n",
    "\n",
    "Example : DELETE FROM students\n",
    "          WHERE stu_id = '001'; "
   ]
  },
  {
   "cell_type": "markdown",
   "id": "e6927c1e-0bd6-4760-82bf-b57019dadc8f",
   "metadata": {},
   "source": [
    "Q4. What is DQL? Explain SELECT with an example."
   ]
  },
  {
   "cell_type": "markdown",
   "id": "a3cfd1b9-b985-461a-a6ff-ea1caff0dfc2",
   "metadata": {},
   "source": [
    "Query languages, often known as DQLs or Data Query Languages, are computer languages that are used to make various queries in information systems and databases. The Structured Query Language (SQL) is a well-known example. DQL statements are used to query the data contained in schema objects."
   ]
  },
  {
   "cell_type": "markdown",
   "id": "3b933b54-b027-43af-a9a8-6c9ab85806d4",
   "metadata": {},
   "source": [
    "The SELECT statement is used to select data from a database.\n",
    "\n",
    "SELECT CustomerName, City FROM Customers;\n",
    "SELECT * FROM Customers;"
   ]
  },
  {
   "cell_type": "markdown",
   "id": "e75b1eba-4639-47ab-8878-57e01a919221",
   "metadata": {},
   "source": [
    "Q5. Explain Primary Key and Foreign Key."
   ]
  },
  {
   "cell_type": "markdown",
   "id": "7a157747-93f2-4e65-a87c-e5fd384c0215",
   "metadata": {},
   "source": [
    "A primary key generally focuses on the uniqueness of the table. It assures the value in the specific column is unique. A foreign key is generally used to build a relationship between the two tables. The table allows only one primary key."
   ]
  },
  {
   "cell_type": "markdown",
   "id": "01bd76c1-3590-4714-837a-68cddb80b23d",
   "metadata": {},
   "source": [
    "Q6. Write a python code to connect MySQL to python. Explain the cursor() and execute() method."
   ]
  },
  {
   "cell_type": "markdown",
   "id": "8d52f0f4-e021-44fb-a6d2-de2b002645a1",
   "metadata": {},
   "source": [
    "# Importing module\n",
    "import mysql.connector\n",
    " \n",
    "# Creating connection object\n",
    "mydb = mysql.connector.connect(\n",
    "    host = \"localhost\",\n",
    "    user = \"yourusername\",\n",
    "    password = \"your_password\"\n",
    ")\n",
    " \n",
    "# Printing the connection object\n",
    "print(mydb)"
   ]
  },
  {
   "cell_type": "markdown",
   "id": "c725b58f-fd1f-4126-a0ce-a7025f38463d",
   "metadata": {},
   "source": [
    "The MySQLCursor of mysql-connector-python (and similar libraries) is used to execute statements to communicate with the MySQL database.\n",
    "\n",
    "Using the methods of it you can execute SQL statements, fetch data from the result sets, call procedures.\n",
    "\n",
    "You can create Cursor object using the cursor() method of the Connection object/class."
   ]
  },
  {
   "cell_type": "markdown",
   "id": "596ad2e9-7acc-4a9d-9122-2bb643352472",
   "metadata": {},
   "source": [
    "import mysql.connector\n",
    "\n",
    "#establishing the connection\n",
    "conn = mysql.connector.connect(\n",
    "   user='root', password='password', host='127.0.0.1', database='mydb'\n",
    ")\n",
    "#Creating a cursor object using the cursor() method\n",
    "cursor = conn.cursor()"
   ]
  },
  {
   "cell_type": "markdown",
   "id": "64b891c7-c54f-4c84-bf86-0e9938eb1f55",
   "metadata": {},
   "source": [
    "execute()\n",
    "\n",
    "This method accepts a MySQL query as a parameter and executes the given query."
   ]
  },
  {
   "cell_type": "markdown",
   "id": "fde3e275-505f-4d4d-ac4f-b92790063ffd",
   "metadata": {},
   "source": [
    "Q7. Give the order of execution of SQL clauses in an SQL query."
   ]
  },
  {
   "cell_type": "markdown",
   "id": "597af1c7-2ac5-4305-81c9-14d8518d6017",
   "metadata": {},
   "source": [
    "FROM/JOIN: The FROM and/or JOIN clauses are executed first to determine the data of interest.\n",
    "WHERE: The WHERE clause is executed to filter out records that do not meet the constraints.\n",
    "GROUP BY: The GROUP BY clause is executed to group the data based on the values in one or more columns."
   ]
  },
  {
   "cell_type": "markdown",
   "id": "a2005185-60f7-41ce-842a-65700e55501c",
   "metadata": {},
   "source": []
  }
 ],
 "metadata": {
  "kernelspec": {
   "display_name": "Python 3 (ipykernel)",
   "language": "python",
   "name": "python3"
  },
  "language_info": {
   "codemirror_mode": {
    "name": "ipython",
    "version": 3
   },
   "file_extension": ".py",
   "mimetype": "text/x-python",
   "name": "python",
   "nbconvert_exporter": "python",
   "pygments_lexer": "ipython3",
   "version": "3.10.8"
  }
 },
 "nbformat": 4,
 "nbformat_minor": 5
}
