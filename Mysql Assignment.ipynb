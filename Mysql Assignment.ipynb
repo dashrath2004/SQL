{
 "cells": [
  {
   "cell_type": "markdown",
   "id": "de09978e-b28a-414d-9e4b-63dff62ae168",
   "metadata": {},
   "source": [
    "Q1. What is a database? Differentiate between SQL and NoSQL databases."
   ]
  },
  {
   "cell_type": "raw",
   "id": "fc7e7ad4-3d39-4824-986b-2a37812ba35c",
   "metadata": {},
   "source": [
    "A database is an organized collection of structured information, or data, typically stored electronically in a computer system. A database is usually controlled by a database management system (DBMS).\n",
    "\n",
    "SQL databases are table-based, while NoSQL databases are document, key-value, graph, or wide-column stores. SQL databases are better for multi-row transactions, while NoSQL is better for unstructured data like documents or JSON."
   ]
  },
  {
   "cell_type": "markdown",
   "id": "a83eb07e-5feb-4b16-b8f7-4f80ffad32e3",
   "metadata": {},
   "source": [
    "Q2. What is DDL? Explain why CREATE, DROP, ALTER, and TRUNCATE are used with an example."
   ]
  },
  {
   "cell_type": "raw",
   "id": "b74677ff-48df-4720-9c81-78de262e819b",
   "metadata": {},
   "source": [
    "DDL statements are similar to a computer programming language for defining data structures, especially database schemas. Common examples of DDL statements include CREATE, ALTER, and DROP."
   ]
  },
  {
   "cell_type": "raw",
   "id": "36703881-ea3e-4157-9b1a-eebe21f32925",
   "metadata": {},
   "source": [
    "1.CREATE TABLE : The CREATE TABLE command creates a new table in the database -"
   ]
  },
  {
   "cell_type": "raw",
   "id": "04d59e48-3ec4-4ffd-b886-a4d1b7dac1e4",
   "metadata": {},
   "source": [
    "2.ALTER TABLE : The ALTER TABLE command adds, deletes, or modifies columns in a table."
   ]
  },
  {
   "cell_type": "raw",
   "id": "1089842a-0b3f-4460-9692-2539f0274b98",
   "metadata": {},
   "source": [
    "3.DROP TABLE : The DROP TABLE command deletes a table in the database."
   ]
  },
  {
   "cell_type": "raw",
   "id": "da7c2875-e26c-42fe-b4c7-1857cda213eb",
   "metadata": {},
   "source": [
    "4. TRUNCATE TABLE : The TRUNCATE TABLE command deletes the data inside a table, but not the table                       itself."
   ]
  },
  {
   "cell_type": "markdown",
   "id": "be581da3-e9c0-4730-aea5-c5945e93e829",
   "metadata": {},
   "source": [
    "Q3. What is DML? Explain INSERT, UPDATE, and DELETE with an example."
   ]
  },
  {
   "cell_type": "raw",
   "id": "c173b61d-a829-4463-8170-c180a4ca22bb",
   "metadata": {},
   "source": [
    "The Full Form of DML is Data Manipulation Language. Data Manipulation Language (DML) is a programming language, also a category of SQL, applying useful table format and formulas for exchanging information, with the data limited to a point in the database, using SQL."
   ]
  },
  {
   "cell_type": "raw",
   "id": "246464f8-4752-4a4a-bd32-8c31f8cb9ff1",
   "metadata": {},
   "source": [
    "INSERT : This command is used to enter the information or values into a row. We can connect one or          more records to a single table within a repository using this instruction. This is often            used to connect an unused tag to the documents.\n",
    "\n",
    "Example : INSERT INTO students ('stu_id' int, 'stu_name' varchar(20), 'city' varchar(20))\n",
    "\n",
    "          VALUES ('1', 'Nirmit', 'Gorakhpur'); "
   ]
  },
  {
   "cell_type": "raw",
   "id": "19731111-3f19-4915-b4c6-ab17a4bd9507",
   "metadata": {},
   "source": [
    "UPDATE Command –\n",
    "This command is used to alter existing table records. Within a table, it modifies data from one or more records. This command is used to alter the data which is already present in a table.\n",
    "\n",
    "Example : UPDATE students\n",
    "\n",
    "SET due_fees = 20000\n",
    "\n",
    "WHERE stu_name = 'Mini';\n"
   ]
  },
  {
   "cell_type": "raw",
   "id": "d8d823bb-dcc9-4295-b979-413e34ebf42a",
   "metadata": {},
   "source": [
    "DELETE Command –\n",
    "It deletes all archives from a table. This command is used to erase some or all of the previous table’s records. If we do not specify the ‘WHERE’ condition then all the rows would be erased or deleted.\n",
    "\n",
    "Example : DELETE FROM students\n",
    "          WHERE stu_id = '001'; "
   ]
  },
  {
   "cell_type": "markdown",
   "id": "e6927c1e-0bd6-4760-82bf-b57019dadc8f",
   "metadata": {},
   "source": [
    "Q4. What is DQL? Explain SELECT with an example."
   ]
  },
  {
   "cell_type": "raw",
   "id": "b9280940-8136-4e96-a905-69b169ae1f3a",
   "metadata": {},
   "source": [
    "Query languages, often known as DQLs or Data Query Languages, are computer languages that are used to make various queries in information systems and databases. The Structured Query Language (SQL) is a well-known example. DQL statements are used to query the data contained in schema objects."
   ]
  },
  {
   "cell_type": "raw",
   "id": "6803dbef-a3ea-47d7-994b-3337b9275735",
   "metadata": {},
   "source": [
    "The SELECT statement is used to select data from a database.\n",
    "\n",
    "SELECT CustomerName, City FROM Customers;\n",
    "SELECT * FROM Customers;"
   ]
  },
  {
   "cell_type": "markdown",
   "id": "e75b1eba-4639-47ab-8878-57e01a919221",
   "metadata": {},
   "source": [
    "Q5. Explain Primary Key and Foreign Key."
   ]
  },
  {
   "cell_type": "raw",
   "id": "5376a395-02b6-4700-a0fc-175a85df8b89",
   "metadata": {},
   "source": [
    "A primary key generally focuses on the uniqueness of the table. It assures the value in the specific column is unique. A foreign key is generally used to build a relationship between the two tables. The table allows only one primary key."
   ]
  },
  {
   "cell_type": "markdown",
   "id": "01bd76c1-3590-4714-837a-68cddb80b23d",
   "metadata": {},
   "source": [
    "Q6. Write a python code to connect MySQL to python. Explain the cursor() and execute() method."
   ]
  },
  {
   "cell_type": "raw",
   "id": "b0a00f69-3de0-4528-8a4e-89b53cf97a12",
   "metadata": {},
   "source": [
    "# Importing module\n",
    "import mysql.connector\n",
    " \n",
    "# Creating connection object\n",
    "mydb = mysql.connector.connect(\n",
    "    host = \"localhost\",\n",
    "    user = \"yourusername\",\n",
    "    password = \"your_password\"\n",
    ")\n",
    " \n",
    "# Printing the connection object\n",
    "print(mydb)"
   ]
  },
  {
   "cell_type": "raw",
   "id": "7afd2c68-3d19-4b7a-a3a6-ae3197f1a183",
   "metadata": {},
   "source": [
    "The MySQLCursor of mysql-connector-python (and similar libraries) is used to execute statements to communicate with the MySQL database.\n",
    "\n",
    "Using the methods of it you can execute SQL statements, fetch data from the result sets, call procedures.\n",
    "\n",
    "You can create Cursor object using the cursor() method of the Connection object/class."
   ]
  },
  {
   "cell_type": "raw",
   "id": "d710a4ea-cda0-4dc0-b1b6-112a92550963",
   "metadata": {},
   "source": [
    "import mysql.connector\n",
    "\n",
    "#establishing the connection\n",
    "conn = mysql.connector.connect(\n",
    "   user='root', password='password', host='127.0.0.1', database='mydb'\n",
    ")\n",
    "#Creating a cursor object using the cursor() method\n",
    "cursor = conn.cursor()"
   ]
  },
  {
   "cell_type": "raw",
   "id": "b347309d-1475-4250-ab4d-5d45e7b66987",
   "metadata": {},
   "source": [
    "execute()\n",
    "\n",
    "This method accepts a MySQL query as a parameter and executes the given query."
   ]
  },
  {
   "cell_type": "markdown",
   "id": "fde3e275-505f-4d4d-ac4f-b92790063ffd",
   "metadata": {},
   "source": [
    "Q7. Give the order of execution of SQL clauses in an SQL query."
   ]
  },
  {
   "cell_type": "raw",
   "id": "056d5671-4a7f-486a-913f-73f1e31fd677",
   "metadata": {},
   "source": [
    "FROM/JOIN: The FROM and/or JOIN clauses are executed first to determine the data of interest.\n",
    "WHERE: The WHERE clause is executed to filter out records that do not meet the constraints.\n",
    "GROUP BY: The GROUP BY clause is executed to group the data based on the values in one or more columns."
   ]
  },
  {
   "cell_type": "code",
   "execution_count": null,
   "id": "8f2f7cc1-b8c3-4c38-9894-2492d7af649f",
   "metadata": {},
   "outputs": [],
   "source": []
  }
 ],
 "metadata": {
  "kernelspec": {
   "display_name": "Python 3 (ipykernel)",
   "language": "python",
   "name": "python3"
  },
  "language_info": {
   "codemirror_mode": {
    "name": "ipython",
    "version": 3
   },
   "file_extension": ".py",
   "mimetype": "text/x-python",
   "name": "python",
   "nbconvert_exporter": "python",
   "pygments_lexer": "ipython3",
   "version": "3.10.8"
  }
 },
 "nbformat": 4,
 "nbformat_minor": 5
}
